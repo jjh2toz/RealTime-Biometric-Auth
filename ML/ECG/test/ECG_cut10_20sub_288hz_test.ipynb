{
 "cells": [
  {
   "cell_type": "code",
   "execution_count": 79,
   "metadata": {},
   "outputs": [],
   "source": [
    "# 0. 사용할 패키지 불러오기\n",
    "\n",
    "import scipy.io\n",
    "import numpy as np\n",
    "import tensorflow as tf\n",
    "from sklearn.preprocessing import MaxAbsScaler, StandardScaler, MinMaxScaler\n",
    "from sklearn.model_selection import train_test_split\n",
    "import matplotlib.pyplot as plt\n",
    "from sklearn.metrics import confusion_matrix\n",
    "import itertools\n",
    "from tensorflow.keras.callbacks import  EarlyStopping\n",
    "import random\n",
    "import os\n",
    "from keras.utils import np_utils\n",
    "from keras.datasets import mnist\n",
    "from keras.models import Sequential\n",
    "from keras.layers import Dense, Activation\n",
    "import numpy as np\n",
    "from numpy import argmax"
   ]
  },
  {
   "cell_type": "code",
   "execution_count": 80,
   "metadata": {
    "scrolled": true
   },
   "outputs": [
    {
     "name": "stdout",
     "output_type": "stream",
     "text": [
      "1.3360673701161265,1.8277572891880944,2.7799686506353987,1.134966980484276,35,21,9,51,201,42\n",
      "1.3361010975211682,1.8455368709353563,2.7428552182666346,1.1971700416764373,37,22,8,51,200,43\n",
      "1.4034590772154099,1.896534505200589,2.660424456258492,1.2544493499229334,37,21,9,52,204,43\n",
      "1.4337559048919875,1.9006877464777963,2.7294787769932434,1.2364169999764658,38,23,8,52,201,44\n",
      "1.4743022778820123,1.9533369215295018,2.754907263814114,1.263891718549947,36,20,9,52,205,43\n",
      "1.4385060096358813,1.9615083430615754,2.685889010735453,1.246455871262216,38,23,9,52,206,43\n",
      "1.359996438099118,1.8922675679019167,2.7114902007342305,1.2368822981000784,38,22,9,53,205,44\n",
      "1.3597392269207158,1.8796110391620973,2.6456943774468424,1.1841791190246724,39,19,9,52,208,43\n",
      "1.4013372936611699,1.8532782815662228,2.6181074913676716,1.1898139450213947,38,20,9,51,192,42\n",
      "1.2174919105309134,1.732915414930201,2.7868049548631575,1.0577847988676041,38,22,8,47,198,39\n",
      "\n"
     ]
    }
   ],
   "source": [
    "# 1. 예측할 데이터 불러오기\n",
    "\n",
    "data_dir = 'datas/input/'\n",
    "fname = os.path.join(data_dir, 'ECG_10sec_1101_feature1.csv')\n",
    "\n",
    "f = open(fname)\n",
    "data = f.read()\n",
    "f.close()\n",
    "\n",
    "print(data)"
   ]
  },
  {
   "cell_type": "code",
   "execution_count": 81,
   "metadata": {},
   "outputs": [
    {
     "name": "stdout",
     "output_type": "stream",
     "text": [
      "[[[-6.17018951e-01 -6.08523271e-01 -5.92070457e-01 -6.20493670e-01\n",
      "   -3.53556451e-02 -2.77255080e-01 -4.84597453e-01  2.41100852e-01\n",
      "    2.83288051e+00  8.55940723e-02]\n",
      "  [-6.17018368e-01 -6.08216066e-01 -5.92711723e-01 -6.19418892e-01\n",
      "   -7.98582969e-04 -2.59976549e-01 -5.01875984e-01  2.41100852e-01\n",
      "    2.81560198e+00  1.02872603e-01]\n",
      "  [-6.15854521e-01 -6.07334902e-01 -5.94136006e-01 -6.18429190e-01\n",
      "   -7.98582969e-04 -2.77255080e-01 -4.84597453e-01  2.58379383e-01\n",
      "    2.88471610e+00  1.02872603e-01]\n",
      "  [-6.15331036e-01 -6.07263140e-01 -5.92942848e-01 -6.18740763e-01\n",
      "    1.64799481e-02 -2.42698018e-01 -5.01875984e-01  2.58379383e-01\n",
      "    2.83288051e+00  1.20151134e-01]\n",
      "  [-6.14630454e-01 -6.06353439e-01 -5.92503481e-01 -6.18266040e-01\n",
      "   -1.80771140e-02 -2.94533611e-01 -4.84597453e-01  2.58379383e-01\n",
      "    2.90199463e+00  1.02872603e-01]\n",
      "  [-6.15248961e-01 -6.06212249e-01 -5.93696015e-01 -6.18567306e-01\n",
      "    1.64799481e-02 -2.42698018e-01 -4.84597453e-01  2.58379383e-01\n",
      "    2.91927317e+00  1.02872603e-01]\n",
      "  [-6.16605491e-01 -6.07408628e-01 -5.93253664e-01 -6.18732723e-01\n",
      "    1.64799481e-02 -2.59976549e-01 -4.84597453e-01  2.75657914e-01\n",
      "    2.90199463e+00  1.20151134e-01]\n",
      "  [-6.16609936e-01 -6.07627314e-01 -5.94390520e-01 -6.19643356e-01\n",
      "    3.37584791e-02 -3.11812142e-01 -4.84597453e-01  2.58379383e-01\n",
      "    2.95383023e+00  1.02872603e-01]\n",
      "  [-6.15891182e-01 -6.08082306e-01 -5.94867181e-01 -6.19545995e-01\n",
      "    1.64799481e-02 -2.94533611e-01 -4.84597453e-01  2.41100852e-01\n",
      "    2.67737373e+00  8.55940723e-02]\n",
      "  [-6.19067760e-01 -6.10161999e-01 -5.91952336e-01 -6.21827265e-01\n",
      "    1.64799481e-02 -2.59976549e-01 -5.01875984e-01  1.71986728e-01\n",
      "    2.78104492e+00  3.37584791e-02]]]\n"
     ]
    }
   ],
   "source": [
    "# 1-1. 데이터 전처리\n",
    "\n",
    "lines = data.split('\\n')\n",
    "\n",
    "lines = lines[:10]\n",
    "\n",
    "input_data = np.zeros((len(lines), 10))\n",
    "\n",
    "for i, line in enumerate(lines):\n",
    "    values = [float(x) for x in line.split(',')]\n",
    "    input_data[i, :] = values\n",
    "\n",
    "# 데이터를 스케일링 하기 위해 2D로 reshape\n",
    "input_data_2D = input_data.reshape(-1, 1)\n",
    "\n",
    "# 데이터를 StandardScaler로 스케일링\n",
    "SDscaler = StandardScaler()\n",
    "SDscaler.fit(input_data_2D)\n",
    "input_scaled = SDscaler.transform(input_data_2D)\n",
    "\n",
    "input_data = input_scaled.reshape(1, 10, 10)\n",
    "\n",
    "print(input_data)"
   ]
  },
  {
   "cell_type": "code",
   "execution_count": 82,
   "metadata": {},
   "outputs": [
    {
     "name": "stdout",
     "output_type": "stream",
     "text": [
      "WARNING:tensorflow:11 out of the last 11 calls to <function Model.make_predict_function.<locals>.predict_function at 0x7fd69c46ee18> triggered tf.function retracing. Tracing is expensive and the excessive number of tracings could be due to (1) creating @tf.function repeatedly in a loop, (2) passing tensors with different shapes, (3) passing Python objects instead of tensors. For (1), please define your @tf.function outside of the loop. For (2), @tf.function has experimental_relax_shapes=True option that relaxes argument shapes that can avoid unnecessary retracing. For (3), please refer to https://www.tensorflow.org/guide/function#controlling_retracing and https://www.tensorflow.org/api_docs/python/tf/function for  more details.\n",
      "Predict : [[0.9997945]]\n"
     ]
    }
   ],
   "source": [
    "# 2. 모델 불러오기\n",
    "from keras.models import load_model\n",
    "model = load_model('model/200hz/Sub_Model_1.h5')\n",
    "\n",
    "# 3. 모델 사용하기\n",
    "results = model.predict(input_data)\n",
    "\n",
    "print('Predict : ' + str(results))"
   ]
  },
  {
   "cell_type": "code",
   "execution_count": 11,
   "metadata": {},
   "outputs": [
    {
     "data": {
      "text/plain": [
       "\"\\n선영 : 0.9970834\\ndata_dir = '../datas/input/'\\nfname = os.path.join(data_dir, 'ECG_RSY_feature.csv')\\nmodel = load_model('../model/Sub_Model_17.h5')\\n\""
      ]
     },
     "execution_count": 11,
     "metadata": {},
     "output_type": "execute_result"
    }
   ],
   "source": [
    "'준혜 : 3    형근 : 13   선영: 16 번째 ( i=0부터 시작)'\n",
    "\n",
    "'모듈 측정 데이터 결과'\n",
    "\n",
    "'288hz 모델'\n",
    "\n",
    "\"\"\"\n",
    "Sub_Model_\n",
    "스케일링 전\n",
    "\n",
    "형근 : 0.00000354\n",
    "준혜 : 2.9759194e-23\n",
    "선영 : 8.77105e-09\n",
    "\"\"\"\n",
    "\n",
    "\"\"\"\n",
    "Sub_Model_\n",
    "스케일링 후\n",
    "\n",
    "형근 : 0.00000016214851\n",
    "준혜 : 0.00000000000095638\n",
    "선영 : 0.9970834\n",
    "\"\"\"\n",
    "\n",
    "\"\"\"\n",
    "knowledge/Student_Model_\n",
    "Knowledge Distillation\n",
    "\n",
    "형근 : 0.02065057\n",
    "준혜 : 0.00262067\n",
    "선영 : 0.00922191\n",
    "\"\"\"\n",
    "\n",
    "\"\"\"\n",
    "선영 : 0.9970834\n",
    "data_dir = '../datas/input/'\n",
    "fname = os.path.join(data_dir, 'ECG_RSY_feature.csv')\n",
    "model = load_model('../model/Sub_Model_17.h5')\n",
    "\"\"\""
   ]
  },
  {
   "cell_type": "code",
   "execution_count": 12,
   "metadata": {},
   "outputs": [
    {
     "data": {
      "text/plain": [
       "'\\nSub_Model_\\n스케일링 후\\n\\n선영 : 0.28520772\\n'"
      ]
     },
     "execution_count": 12,
     "metadata": {},
     "output_type": "execute_result"
    }
   ],
   "source": [
    "'115hz 모델'\n",
    "\n",
    "\"\"\"\n",
    "Sub_Model_\n",
    "스케일링 후\n",
    "\n",
    "선영 : 0.28520772\n",
    "\"\"\""
   ]
  },
  {
   "cell_type": "code",
   "execution_count": null,
   "metadata": {},
   "outputs": [],
   "source": []
  }
 ],
 "metadata": {
  "kernelspec": {
   "display_name": "Python 3",
   "language": "python",
   "name": "python3"
  },
  "language_info": {
   "codemirror_mode": {
    "name": "ipython",
    "version": 3
   },
   "file_extension": ".py",
   "mimetype": "text/x-python",
   "name": "python",
   "nbconvert_exporter": "python",
   "pygments_lexer": "ipython3",
   "version": "3.6.9"
  }
 },
 "nbformat": 4,
 "nbformat_minor": 2
}
