{
 "cells": [
  {
   "cell_type": "code",
   "execution_count": 7,
   "id": "german-cancellation",
   "metadata": {},
   "outputs": [
    {
     "data": {
      "text/plain": [
       "'\\nBohb가 찾은 Best found configuration과 내가 찾은 configuration이 성능 비교\\n'"
      ]
     },
     "execution_count": 7,
     "metadata": {},
     "output_type": "execute_result"
    }
   ],
   "source": [
    "\"\"\"\n",
    "Bohb가 찾은 Best found configuration과 내가 찾은 configuration이 성능 비교\n",
    "\"\"\""
   ]
  },
  {
   "cell_type": "code",
   "execution_count": 8,
   "id": "vital-frederick",
   "metadata": {},
   "outputs": [
    {
     "data": {
      "text/plain": [
       "'\\nSUB 1\\n\\nBOHB found best configuration\\n{\\'dropout_rate\\': 0.7900385270299203, \\'lr\\': 0.0006699313652483925, \\'lstm_units\\': 27, \\'num_conv_layers\\': 2, \\'num_fc_layers\\': 3, \\'num_fc_units_1\\': 117, \\'num_filters_1\\': 41, \\'optimizer\\': \\'Adam\\', \\'num_fc_units_2\\': 32, \\'num_fc_units_3\\': 31, \\'num_filters_2\\': 67}\\n\\n    val_loss: 0.13111940026283264\\n    test_loss: 0.14556917548179626\\n    test_acc: 0.9514217972755432\\n    precision: 0.9292929292929293\\n    recall: 0.8720379146919431\\n    specificity 0.9778830963665087\\n    sensitivity :  0.8720379146919431\\n    far 0.022116903633491312\\n    frr 0.12796208530805686\\n\\nI found best configuration\\n[[37, 0, 0], {\"dropout_rate\": 0.7900385270299203, \"lr\": 0.0006699313652483925, \"lstm_units\": 27, \"num_conv_layers\": 2, \"num_fc_layers\": 3, \"num_fc_units_1\": 117, \"num_filters_1\": 41, \"optimizer\": \"Adam\", \"num_fc_units_2\": 32, \"num_fc_units_3\": 31, \"num_filters_2\": 67}, {\"model_based_pick\": true}]\\n\\n    val_loss: 0.13111940026283264\\n    test_loss: 0.14556917548179626\\n    test_acc: 0.9514217972755432\\n    precision: 0.9292929292929293\\n    recall: 0.8720379146919431\\n    specificity 0.9778830963665087\\n    sensitivity :  0.8720379146919431\\n    far 0.022116903633491312\\n    frr 0.12796208530805686\\n\\n동일\\n\\n'"
      ]
     },
     "execution_count": 8,
     "metadata": {},
     "output_type": "execute_result"
    }
   ],
   "source": [
    "\"\"\"\n",
    "SUB 1\n",
    "\n",
    "BOHB found best configuration\n",
    "{'dropout_rate': 0.7900385270299203, 'lr': 0.0006699313652483925, 'lstm_units': 27, 'num_conv_layers': 2, 'num_fc_layers': 3, 'num_fc_units_1': 117, 'num_filters_1': 41, 'optimizer': 'Adam', 'num_fc_units_2': 32, 'num_fc_units_3': 31, 'num_filters_2': 67}\n",
    "\n",
    "    val_loss: 0.13111940026283264\n",
    "    test_loss: 0.14556917548179626\n",
    "    test_acc: 0.9514217972755432\n",
    "    precision: 0.9292929292929293\n",
    "    recall: 0.8720379146919431\n",
    "    specificity 0.9778830963665087\n",
    "    sensitivity :  0.8720379146919431\n",
    "    far 0.022116903633491312\n",
    "    frr 0.12796208530805686\n",
    "\n",
    "I found best configuration\n",
    "[[37, 0, 0], {\"dropout_rate\": 0.7900385270299203, \"lr\": 0.0006699313652483925, \"lstm_units\": 27, \"num_conv_layers\": 2, \"num_fc_layers\": 3, \"num_fc_units_1\": 117, \"num_filters_1\": 41, \"optimizer\": \"Adam\", \"num_fc_units_2\": 32, \"num_fc_units_3\": 31, \"num_filters_2\": 67}, {\"model_based_pick\": true}]\n",
    "\n",
    "    val_loss: 0.13111940026283264\n",
    "    test_loss: 0.14556917548179626\n",
    "    test_acc: 0.9514217972755432\n",
    "    precision: 0.9292929292929293\n",
    "    recall: 0.8720379146919431\n",
    "    specificity 0.9778830963665087\n",
    "    sensitivity :  0.8720379146919431\n",
    "    far 0.022116903633491312\n",
    "    frr 0.12796208530805686\n",
    "\n",
    "동일\n",
    "\n",
    "\"\"\""
   ]
  },
  {
   "cell_type": "code",
   "execution_count": 9,
   "id": "opposed-charm",
   "metadata": {},
   "outputs": [
    {
     "data": {
      "text/plain": [
       "'\\nSUB 2\\n\\nBOHB found best configuration\\n{\\'dropout_rate\\': 0.5447738322468123, \\'lr\\': 0.03608870617327878, \\'lstm_units\\': 192, \\'num_conv_layers\\': 2, \\'num_fc_layers\\': 1, \\'num_fc_units_1\\': 14, \\'num_filters_1\\': 27, \\'optimizer\\': \\'SGD\\', \\'num_filters_2\\': 104, \\'sgd_momentum\\': 0.5753198783260949}\\n\\n    val_loss: 0.05843240022659302\\n    test_loss: 0.1637420952320099\\n    test_acc: 0.9443128108978271\\n    precision: 0.9141414141414141\\n    recall: 0.8578199052132701\\n    specificity 0.9731437598736177\\n    sensitivity :  0.8578199052132701\\n    far 0.026856240126382307\\n    frr 0.14218009478672985\\n\\nI found best configuration\\n[[53, 0, 1], {\"dropout_rate\": 0.4476962408598348, \"lr\": 0.0003045598974602239, \"lstm_units\": 200, \"num_conv_layers\": 3, \"num_fc_layers\": 2, \"num_fc_units_1\": 174, \"num_filters_1\": 154, \"optimizer\": \"SGD\", \"num_fc_units_2\": 36, \"num_filters_2\": 190, \"num_filters_3\": 18, \"sgd_momentum\": 0.8915087720100587}, {\"model_based_pick\": true}]\\n\\n    val_loss: 0.09977450221776962\\n    test_loss: 0.13120359182357788\\n    test_acc: 0.9537914395332336\\n    precision: 0.93\\n    recall: 0.8815165876777251\\n    specificity 0.9778830963665087\\n    sensitivity :  0.8815165876777251\\n    far 0.022116903633491312\\n    frr 0.11848341232227488\\n\\n'"
      ]
     },
     "execution_count": 9,
     "metadata": {},
     "output_type": "execute_result"
    }
   ],
   "source": [
    "\"\"\"\n",
    "SUB 2\n",
    "\n",
    "BOHB found best configuration\n",
    "{'dropout_rate': 0.5447738322468123, 'lr': 0.03608870617327878, 'lstm_units': 192, 'num_conv_layers': 2, 'num_fc_layers': 1, 'num_fc_units_1': 14, 'num_filters_1': 27, 'optimizer': 'SGD', 'num_filters_2': 104, 'sgd_momentum': 0.5753198783260949}\n",
    "\n",
    "    val_loss: 0.05843240022659302\n",
    "    test_loss: 0.1637420952320099\n",
    "    test_acc: 0.9443128108978271\n",
    "    precision: 0.9141414141414141\n",
    "    recall: 0.8578199052132701\n",
    "    specificity 0.9731437598736177\n",
    "    sensitivity :  0.8578199052132701\n",
    "    far 0.026856240126382307\n",
    "    frr 0.14218009478672985\n",
    "\n",
    "I found best configuration\n",
    "[[53, 0, 1], {\"dropout_rate\": 0.4476962408598348, \"lr\": 0.0003045598974602239, \"lstm_units\": 200, \"num_conv_layers\": 3, \"num_fc_layers\": 2, \"num_fc_units_1\": 174, \"num_filters_1\": 154, \"optimizer\": \"SGD\", \"num_fc_units_2\": 36, \"num_filters_2\": 190, \"num_filters_3\": 18, \"sgd_momentum\": 0.8915087720100587}, {\"model_based_pick\": true}]\n",
    "\n",
    "    val_loss: 0.09977450221776962\n",
    "    test_loss: 0.13120359182357788\n",
    "    test_acc: 0.9537914395332336\n",
    "    precision: 0.93\n",
    "    recall: 0.8815165876777251\n",
    "    specificity 0.9778830963665087\n",
    "    sensitivity :  0.8815165876777251\n",
    "    far 0.022116903633491312\n",
    "    frr 0.11848341232227488\n",
    "\n",
    "\"\"\""
   ]
  },
  {
   "cell_type": "code",
   "execution_count": 10,
   "id": "fixed-porter",
   "metadata": {},
   "outputs": [
    {
     "data": {
      "text/plain": [
       "'\\nSUB 3\\n\\nBOHB found best configuration\\n{\\'dropout_rate\\': 0.4293286790904965, \\'lr\\': 0.0012314686746471956, \\'lstm_units\\': 219, \\'num_conv_layers\\': 3, \\'num_fc_layers\\': 3, \\'num_fc_units_1\\': 27, \\'num_filters_1\\': 101, \\'optimizer\\': \\'Adam\\', \\'num_fc_units_2\\': 20, \\'num_fc_units_3\\': 139, \\'num_filters_2\\': 115, \\'num_filters_3\\': 54}\\n\\n    val_loss: 0.12492338567972183\\n    test_loss: 0.19686079025268555\\n    test_acc: 0.9300947785377502\\n    precision: 0.9130434782608695\\n    recall: 0.7962085308056872\\n    specificity 0.9747235387045814\\n    sensitivity :  0.7962085308056872\\n    far 0.02527646129541864\\n    frr 0.2037914691943128\\n\\nI found best configuration\\n[[35, 0, 1], {\"dropout_rate\": 0.5825123831711266, \"lr\": 0.00014136930875531704, \"lstm_units\": 108, \"num_conv_layers\": 3, \"num_fc_layers\": 2, \"num_fc_units_1\": 148, \"num_filters_1\": 183, \"optimizer\": \"Adam\", \"num_fc_units_2\": 10, \"num_filters_2\": 63, \"num_filters_3\": 21}, {\"model_based_pick\": true}]\\n\\n    val_loss: 0.1272442638874054\\n    test_loss: 0.16911330819129944\\n    test_acc: 0.9277251362800598\\n    precision: 0.8826530612244898\\n    recall: 0.8199052132701422\\n    specificity 0.9636650868878357\\n    sensitivity :  0.8199052132701422\\n    far 0.036334913112164295\\n    frr 0.18009478672985782\\n\\n'"
      ]
     },
     "execution_count": 10,
     "metadata": {},
     "output_type": "execute_result"
    }
   ],
   "source": [
    "\"\"\"\n",
    "SUB 3\n",
    "\n",
    "BOHB found best configuration\n",
    "{'dropout_rate': 0.4293286790904965, 'lr': 0.0012314686746471956, 'lstm_units': 219, 'num_conv_layers': 3, 'num_fc_layers': 3, 'num_fc_units_1': 27, 'num_filters_1': 101, 'optimizer': 'Adam', 'num_fc_units_2': 20, 'num_fc_units_3': 139, 'num_filters_2': 115, 'num_filters_3': 54}\n",
    "\n",
    "    val_loss: 0.12492338567972183\n",
    "    test_loss: 0.19686079025268555\n",
    "    test_acc: 0.9300947785377502\n",
    "    precision: 0.9130434782608695\n",
    "    recall: 0.7962085308056872\n",
    "    specificity 0.9747235387045814\n",
    "    sensitivity :  0.7962085308056872\n",
    "    far 0.02527646129541864\n",
    "    frr 0.2037914691943128\n",
    "\n",
    "I found best configuration\n",
    "[[35, 0, 1], {\"dropout_rate\": 0.5825123831711266, \"lr\": 0.00014136930875531704, \"lstm_units\": 108, \"num_conv_layers\": 3, \"num_fc_layers\": 2, \"num_fc_units_1\": 148, \"num_filters_1\": 183, \"optimizer\": \"Adam\", \"num_fc_units_2\": 10, \"num_filters_2\": 63, \"num_filters_3\": 21}, {\"model_based_pick\": true}]\n",
    "\n",
    "    val_loss: 0.1272442638874054\n",
    "    test_loss: 0.16911330819129944\n",
    "    test_acc: 0.9277251362800598\n",
    "    precision: 0.8826530612244898\n",
    "    recall: 0.8199052132701422\n",
    "    specificity 0.9636650868878357\n",
    "    sensitivity :  0.8199052132701422\n",
    "    far 0.036334913112164295\n",
    "    frr 0.18009478672985782\n",
    "\n",
    "\"\"\""
   ]
  },
  {
   "cell_type": "code",
   "execution_count": 11,
   "id": "permanent-uncertainty",
   "metadata": {},
   "outputs": [
    {
     "data": {
      "text/plain": [
       "'\\nSUB 4\\n\\nBOHB found best configuration\\n{\\'dropout_rate\\': 0.6835712527260434, \\'lr\\': 0.001646253038527969, \\'lstm_units\\': 19, \\'num_conv_layers\\': 2, \\'num_fc_layers\\': 1, \\'num_fc_units_1\\': 162, \\'num_filters_1\\': 53, \\'optimizer\\': \\'Adam\\', \\'num_filters_2\\': 68}\\n\\n    val_loss: 0.1682005375623703\\n    test_loss: 0.1650073081254959\\n    test_acc: 0.921800971031189\\n    precision: 0.8085106382978723\\n    recall: 0.9004739336492891\\n    specificity 0.9289099526066351\\n    sensitivity :  0.9004739336492891\\n    far 0.07109004739336493\\n    frr 0.0995260663507109\\n\\nI found best configuration\\n[[1, 0, 0], {\"dropout_rate\": 0.22147858870100906, \"lr\": 0.01665328009108491, \"lstm_units\": 130, \"num_conv_layers\": 3, \"num_fc_layers\": 1, \"num_fc_units_1\": 81, \"num_filters_1\": 154, \"optimizer\": \"SGD\", \"num_filters_2\": 157, \"num_filters_3\": 11, \"sgd_momentum\": 0.7014797306275332}, {\"model_based_pick\": false}]\\n\\n    val_loss: 0.13969653844833374\\n    test_loss: 0.15000109374523163\\n    test_acc: 0.9324644804000854\\n    precision: 0.8155737704918032\\n    recall: 0.943127962085308\\n    specificity 0.9289099526066351\\n    sensitivity :  0.943127962085308\\n    far 0.07109004739336493\\n    frr 0.05687203791469194\\n\\n'"
      ]
     },
     "execution_count": 11,
     "metadata": {},
     "output_type": "execute_result"
    }
   ],
   "source": [
    "\"\"\"\n",
    "SUB 4\n",
    "\n",
    "BOHB found best configuration\n",
    "{'dropout_rate': 0.6835712527260434, 'lr': 0.001646253038527969, 'lstm_units': 19, 'num_conv_layers': 2, 'num_fc_layers': 1, 'num_fc_units_1': 162, 'num_filters_1': 53, 'optimizer': 'Adam', 'num_filters_2': 68}\n",
    "\n",
    "    val_loss: 0.1682005375623703\n",
    "    test_loss: 0.1650073081254959\n",
    "    test_acc: 0.921800971031189\n",
    "    precision: 0.8085106382978723\n",
    "    recall: 0.9004739336492891\n",
    "    specificity 0.9289099526066351\n",
    "    sensitivity :  0.9004739336492891\n",
    "    far 0.07109004739336493\n",
    "    frr 0.0995260663507109\n",
    "\n",
    "I found best configuration\n",
    "[[1, 0, 0], {\"dropout_rate\": 0.22147858870100906, \"lr\": 0.01665328009108491, \"lstm_units\": 130, \"num_conv_layers\": 3, \"num_fc_layers\": 1, \"num_fc_units_1\": 81, \"num_filters_1\": 154, \"optimizer\": \"SGD\", \"num_filters_2\": 157, \"num_filters_3\": 11, \"sgd_momentum\": 0.7014797306275332}, {\"model_based_pick\": false}]\n",
    "\n",
    "    val_loss: 0.13969653844833374\n",
    "    test_loss: 0.15000109374523163\n",
    "    test_acc: 0.9324644804000854\n",
    "    precision: 0.8155737704918032\n",
    "    recall: 0.943127962085308\n",
    "    specificity 0.9289099526066351\n",
    "    sensitivity :  0.943127962085308\n",
    "    far 0.07109004739336493\n",
    "    frr 0.05687203791469194\n",
    "\n",
    "\"\"\""
   ]
  },
  {
   "cell_type": "code",
   "execution_count": 12,
   "id": "invisible-revision",
   "metadata": {},
   "outputs": [
    {
     "data": {
      "text/plain": [
       "'\\nSUB 5\\n\\nBOHB found best configuration\\n{\\'dropout_rate\\': 0.5001856856580251, \\'lr\\': 0.0006140608741342609, \\'lstm_units\\': 42, \\'num_conv_layers\\': 2, \\'num_fc_layers\\': 2, \\'num_fc_units_1\\': 92, \\'num_filters_1\\': 61, \\'optimizer\\': \\'Adam\\', \\'num_fc_units_2\\': 77, \\'num_filters_2\\': 150}\\n\\n    val_loss: 0.15898266434669495\\n    test_loss: 0.2966841161251068\\n    test_acc: 0.8590047359466553\\n    precision: 0.9423076923076923\\n    recall: 0.46445497630331756\\n    specificity 0.990521327014218\\n    sensitivity :  0.46445497630331756\\n    far 0.009478672985781991\\n    frr 0.5355450236966824\\n\\nI found best configuration\\n[[3, 0, 1], {\"dropout_rate\": 0.27506014989460326, \"lr\": 0.00287010197769885, \"lstm_units\": 39, \"num_conv_layers\": 1, \"num_fc_layers\": 1, \"num_fc_units_1\": 11, \"num_filters_1\": 4, \"optimizer\": \"Adam\"}, {\"model_based_pick\": false}]\\n\\n    val_loss: 0.1610240489244461\\n    test_loss: 0.2736242115497589\\n    test_acc: 0.8909952640533447\\n    precision: 0.8940397350993378\\n    recall: 0.6398104265402843\\n    specificity 0.9747235387045814\\n    sensitivity :  0.6398104265402843\\n    far 0.02527646129541864\\n    frr 0.36018957345971564\\n\\n'"
      ]
     },
     "execution_count": 12,
     "metadata": {},
     "output_type": "execute_result"
    }
   ],
   "source": [
    "\"\"\"\n",
    "SUB 5\n",
    "\n",
    "BOHB found best configuration\n",
    "{'dropout_rate': 0.5001856856580251, 'lr': 0.0006140608741342609, 'lstm_units': 42, 'num_conv_layers': 2, 'num_fc_layers': 2, 'num_fc_units_1': 92, 'num_filters_1': 61, 'optimizer': 'Adam', 'num_fc_units_2': 77, 'num_filters_2': 150}\n",
    "\n",
    "    val_loss: 0.15898266434669495\n",
    "    test_loss: 0.2966841161251068\n",
    "    test_acc: 0.8590047359466553\n",
    "    precision: 0.9423076923076923\n",
    "    recall: 0.46445497630331756\n",
    "    specificity 0.990521327014218\n",
    "    sensitivity :  0.46445497630331756\n",
    "    far 0.009478672985781991\n",
    "    frr 0.5355450236966824\n",
    "\n",
    "I found best configuration\n",
    "[[3, 0, 1], {\"dropout_rate\": 0.27506014989460326, \"lr\": 0.00287010197769885, \"lstm_units\": 39, \"num_conv_layers\": 1, \"num_fc_layers\": 1, \"num_fc_units_1\": 11, \"num_filters_1\": 4, \"optimizer\": \"Adam\"}, {\"model_based_pick\": false}]\n",
    "\n",
    "    val_loss: 0.1610240489244461\n",
    "    test_loss: 0.2736242115497589\n",
    "    test_acc: 0.8909952640533447\n",
    "    precision: 0.8940397350993378\n",
    "    recall: 0.6398104265402843\n",
    "    specificity 0.9747235387045814\n",
    "    sensitivity :  0.6398104265402843\n",
    "    far 0.02527646129541864\n",
    "    frr 0.36018957345971564\n",
    "\n",
    "\"\"\""
   ]
  },
  {
   "cell_type": "code",
   "execution_count": 13,
   "id": "colonial-falls",
   "metadata": {},
   "outputs": [
    {
     "data": {
      "text/plain": [
       "'\\nSUB 6\\n\\nBOHB found best configuration\\n{\\'dropout_rate\\': 0.16519178106690297, \\'lr\\': 0.0016556065892678969, \\'lstm_units\\': 159, \\'num_conv_layers\\': 2, \\'num_fc_layers\\': 3, \\'num_fc_units_1\\': 8, \\'num_filters_1\\': 48, \\'optimizer\\': \\'SGD\\', \\'num_fc_units_2\\': 241, \\'num_fc_units_3\\': 13, \\'num_filters_2\\': 128, \\'sgd_momentum\\': 0.9102646030327244}\\n\\n    val_loss: 0.08829853683710098\\n    test_loss: 0.09679172188043594\\n    test_acc: 0.9644549489021301\\n    precision: 0.9547738693467337\\n    recall: 0.9004739336492891\\n    specificity 0.985781990521327\\n    sensitivity :  0.9004739336492891\\n    far 0.014218009478672985\\n    frr 0.0995260663507109\\n\\nI found best configuration\\n[[29, 0, 0], {\"dropout_rate\": 0.16519178106690297, \"lr\": 0.0016556065892678969, \"lstm_units\": 159, \"num_conv_layers\": 2, \"num_fc_layers\": 3, \"num_fc_units_1\": 8, \"num_filters_1\": 48, \"optimizer\": \"SGD\", \"num_fc_units_2\": 241, \"num_fc_units_3\": 13, \"num_filters_2\": 128, \"sgd_momentum\": 0.9102646030327244}, {\"model_based_pick\": true}]\\n\\n    val_loss: 0.08829853683710098\\n    test_loss: 0.09679172188043594\\n    test_acc: 0.9644549489021301\\n    precision: 0.9547738693467337\\n    recall: 0.9004739336492891\\n    specificity 0.985781990521327\\n    sensitivity :  0.9004739336492891\\n    far 0.014218009478672985\\n    frr 0.0995260663507109\\n\\n동일\\n\\n'"
      ]
     },
     "execution_count": 13,
     "metadata": {},
     "output_type": "execute_result"
    }
   ],
   "source": [
    "\"\"\"\n",
    "SUB 6\n",
    "\n",
    "BOHB found best configuration\n",
    "{'dropout_rate': 0.16519178106690297, 'lr': 0.0016556065892678969, 'lstm_units': 159, 'num_conv_layers': 2, 'num_fc_layers': 3, 'num_fc_units_1': 8, 'num_filters_1': 48, 'optimizer': 'SGD', 'num_fc_units_2': 241, 'num_fc_units_3': 13, 'num_filters_2': 128, 'sgd_momentum': 0.9102646030327244}\n",
    "\n",
    "    val_loss: 0.08829853683710098\n",
    "    test_loss: 0.09679172188043594\n",
    "    test_acc: 0.9644549489021301\n",
    "    precision: 0.9547738693467337\n",
    "    recall: 0.9004739336492891\n",
    "    specificity 0.985781990521327\n",
    "    sensitivity :  0.9004739336492891\n",
    "    far 0.014218009478672985\n",
    "    frr 0.0995260663507109\n",
    "\n",
    "I found best configuration\n",
    "[[29, 0, 0], {\"dropout_rate\": 0.16519178106690297, \"lr\": 0.0016556065892678969, \"lstm_units\": 159, \"num_conv_layers\": 2, \"num_fc_layers\": 3, \"num_fc_units_1\": 8, \"num_filters_1\": 48, \"optimizer\": \"SGD\", \"num_fc_units_2\": 241, \"num_fc_units_3\": 13, \"num_filters_2\": 128, \"sgd_momentum\": 0.9102646030327244}, {\"model_based_pick\": true}]\n",
    "\n",
    "    val_loss: 0.08829853683710098\n",
    "    test_loss: 0.09679172188043594\n",
    "    test_acc: 0.9644549489021301\n",
    "    precision: 0.9547738693467337\n",
    "    recall: 0.9004739336492891\n",
    "    specificity 0.985781990521327\n",
    "    sensitivity :  0.9004739336492891\n",
    "    far 0.014218009478672985\n",
    "    frr 0.0995260663507109\n",
    "\n",
    "동일\n",
    "\n",
    "\"\"\""
   ]
  },
  {
   "cell_type": "code",
   "execution_count": 14,
   "id": "peripheral-london",
   "metadata": {},
   "outputs": [
    {
     "data": {
      "text/plain": [
       "'\\nSUB 7\\n\\nBOHB found best configuration\\n{\\'dropout_rate\\': 0.7947857692503151, \\'lr\\': 0.0007448505160641001, \\'lstm_units\\': 128, \\'num_conv_layers\\': 3, \\'num_fc_layers\\': 2, \\'num_fc_units_1\\': 136, \\'num_filters_1\\': 153, \\'optimizer\\': \\'Adam\\', \\'num_fc_units_2\\': 8, \\'num_filters_2\\': 101, \\'num_filters_3\\': 49}\\n\\n    val_loss: 0.32515889406204224\\n    test_loss: 0.49548307061195374\\n    test_acc: 0.7855450510978699\\n    precision: 0.5872093023255814\\n    recall: 0.4786729857819905\\n    specificity 0.8878357030015798\\n    sensitivity :  0.4786729857819905\\n    far 0.11216429699842022\\n    frr 0.5213270142180095\\n\\nI found best configuration\\n[[79, 0, 0], {\"dropout_rate\": 0.5502528353650731, \"lr\": 0.013168480192202132, \"lstm_units\": 223, \"num_conv_layers\": 2, \"num_fc_layers\": 2, \"num_fc_units_1\": 13, \"num_filters_1\": 88, \"optimizer\": \"SGD\", \"num_fc_units_2\": 150, \"num_filters_2\": 45, \"sgd_momentum\": 0.4245211512655333}, {\"model_based_pick\": true}]\\n\\n    val_loss: 0.25133731961250305\\n    test_loss: 0.3119417130947113\\n    test_acc: 0.8353080749511719\\n    precision: 0.6935483870967742\\n    recall: 0.6113744075829384\\n    specificity 0.909952606635071\\n    sensitivity :  0.6113744075829384\\n    far 0.09004739336492891\\n    frr 0.3886255924170616\\n\\n'"
      ]
     },
     "execution_count": 14,
     "metadata": {},
     "output_type": "execute_result"
    }
   ],
   "source": [
    "\"\"\"\n",
    "SUB 7\n",
    "\n",
    "BOHB found best configuration\n",
    "{'dropout_rate': 0.7947857692503151, 'lr': 0.0007448505160641001, 'lstm_units': 128, 'num_conv_layers': 3, 'num_fc_layers': 2, 'num_fc_units_1': 136, 'num_filters_1': 153, 'optimizer': 'Adam', 'num_fc_units_2': 8, 'num_filters_2': 101, 'num_filters_3': 49}\n",
    "\n",
    "    val_loss: 0.32515889406204224\n",
    "    test_loss: 0.49548307061195374\n",
    "    test_acc: 0.7855450510978699\n",
    "    precision: 0.5872093023255814\n",
    "    recall: 0.4786729857819905\n",
    "    specificity 0.8878357030015798\n",
    "    sensitivity :  0.4786729857819905\n",
    "    far 0.11216429699842022\n",
    "    frr 0.5213270142180095\n",
    "\n",
    "I found best configuration\n",
    "[[79, 0, 0], {\"dropout_rate\": 0.5502528353650731, \"lr\": 0.013168480192202132, \"lstm_units\": 223, \"num_conv_layers\": 2, \"num_fc_layers\": 2, \"num_fc_units_1\": 13, \"num_filters_1\": 88, \"optimizer\": \"SGD\", \"num_fc_units_2\": 150, \"num_filters_2\": 45, \"sgd_momentum\": 0.4245211512655333}, {\"model_based_pick\": true}]\n",
    "\n",
    "    val_loss: 0.25133731961250305\n",
    "    test_loss: 0.3119417130947113\n",
    "    test_acc: 0.8353080749511719\n",
    "    precision: 0.6935483870967742\n",
    "    recall: 0.6113744075829384\n",
    "    specificity 0.909952606635071\n",
    "    sensitivity :  0.6113744075829384\n",
    "    far 0.09004739336492891\n",
    "    frr 0.3886255924170616\n",
    "\n",
    "\"\"\""
   ]
  },
  {
   "cell_type": "code",
   "execution_count": 15,
   "id": "interpreted-female",
   "metadata": {},
   "outputs": [
    {
     "data": {
      "text/plain": [
       "'\\nSUB 8\\n\\nBOHB found best configuration\\n{\\'dropout_rate\\': 0.5254390056631926, \\'lr\\': 0.00021455459389909653, \\'lstm_units\\': 166, \\'num_conv_layers\\': 3, \\'num_fc_layers\\': 2, \\'num_fc_units_1\\': 11, \\'num_filters_1\\': 188, \\'optimizer\\': \\'Adam\\', \\'num_fc_units_2\\': 223, \\'num_filters_2\\': 117, \\'num_filters_3\\': 183}\\n\\n    val_loss: 0.1875421553850174\\n    test_loss: 0.2604336440563202\\n    test_acc: 0.900473952293396\\n    precision: 0.7748917748917749\\n    recall: 0.8483412322274881\\n    specificity 0.9178515007898894\\n    sensitivity :  0.8483412322274881\\n    far 0.08214849921011058\\n    frr 0.15165876777251186\\n\\nI found best configuration\\n[[68, 0, 0], {\"dropout_rate\": 0.5904351267174524, \"lr\": 0.00048477250069401214, \"lstm_units\": 216, \"num_conv_layers\": 3, \"num_fc_layers\": 3, \"num_fc_units_1\": 36, \"num_filters_1\": 180, \"optimizer\": \"Adam\", \"num_fc_units_2\": 231, \"num_fc_units_3\": 8, \"num_filters_2\": 21, \"num_filters_3\": 193}, {\"model_based_pick\": true}]\\n\\n    val_loss: 0.20810016989707947\\n    test_loss: 0.3024187386035919\\n    test_acc: 0.8661137223243713\\n    precision: 0.69140625\\n    recall: 0.8388625592417062\\n    specificity 0.8751974723538705\\n    sensitivity :  0.8388625592417062\\n    far 0.12480252764612954\\n    frr 0.16113744075829384\\n\\n'"
      ]
     },
     "execution_count": 15,
     "metadata": {},
     "output_type": "execute_result"
    }
   ],
   "source": [
    "\"\"\"\n",
    "SUB 8\n",
    "\n",
    "BOHB found best configuration\n",
    "{'dropout_rate': 0.5254390056631926, 'lr': 0.00021455459389909653, 'lstm_units': 166, 'num_conv_layers': 3, 'num_fc_layers': 2, 'num_fc_units_1': 11, 'num_filters_1': 188, 'optimizer': 'Adam', 'num_fc_units_2': 223, 'num_filters_2': 117, 'num_filters_3': 183}\n",
    "\n",
    "    val_loss: 0.1875421553850174\n",
    "    test_loss: 0.2604336440563202\n",
    "    test_acc: 0.900473952293396\n",
    "    precision: 0.7748917748917749\n",
    "    recall: 0.8483412322274881\n",
    "    specificity 0.9178515007898894\n",
    "    sensitivity :  0.8483412322274881\n",
    "    far 0.08214849921011058\n",
    "    frr 0.15165876777251186\n",
    "\n",
    "I found best configuration\n",
    "[[68, 0, 0], {\"dropout_rate\": 0.5904351267174524, \"lr\": 0.00048477250069401214, \"lstm_units\": 216, \"num_conv_layers\": 3, \"num_fc_layers\": 3, \"num_fc_units_1\": 36, \"num_filters_1\": 180, \"optimizer\": \"Adam\", \"num_fc_units_2\": 231, \"num_fc_units_3\": 8, \"num_filters_2\": 21, \"num_filters_3\": 193}, {\"model_based_pick\": true}]\n",
    "\n",
    "    val_loss: 0.20810016989707947\n",
    "    test_loss: 0.3024187386035919\n",
    "    test_acc: 0.8661137223243713\n",
    "    precision: 0.69140625\n",
    "    recall: 0.8388625592417062\n",
    "    specificity 0.8751974723538705\n",
    "    sensitivity :  0.8388625592417062\n",
    "    far 0.12480252764612954\n",
    "    frr 0.16113744075829384\n",
    "\n",
    "\"\"\""
   ]
  },
  {
   "cell_type": "code",
   "execution_count": 16,
   "id": "million-egyptian",
   "metadata": {},
   "outputs": [
    {
     "data": {
      "text/plain": [
       "'\\nSUB 9\\n\\nBOHB found best configuration\\n{\\'dropout_rate\\': 0.6273313485219749, \\'lr\\': 0.00024850487236764685, \\'lstm_units\\': 156, \\'num_conv_layers\\': 2, \\'num_fc_layers\\': 3, \\'num_fc_units_1\\': 253, \\'num_filters_1\\': 240, \\'optimizer\\': \\'Adam\\', \\'num_fc_units_2\\': 34, \\'num_fc_units_3\\': 55, \\'num_filters_2\\': 44}\\n\\n    val_loss: 0.18480144441127777\\n    test_loss: 0.14045511186122894\\n    test_acc: 0.9454976320266724\\n    precision: 0.8666666666666667\\n    recall: 0.9241706161137441\\n    specificity 0.95260663507109\\n    sensitivity :  0.9241706161137441\\n    far 0.04739336492890995\\n    frr 0.07582938388625593\\n\\nI found best configuration\\n[[80, 0, 1], {\"dropout_rate\": 0.7477320947302286, \"lr\": 0.0005091769886330065, \"lstm_units\": 107, \"num_conv_layers\": 2, \"num_fc_layers\": 1, \"num_fc_units_1\": 29, \"num_filters_1\": 127, \"optimizer\": \"Adam\", \"num_filters_2\": 20}, {\"model_based_pick\": true}]\\n\\n    val_loss: 0.21238261461257935\\n    test_loss: 0.15220099687576294\\n    test_acc: 0.9312795996665955\\n    precision: 0.834061135371179\\n    recall: 0.9052132701421801\\n    specificity 0.9399684044233807\\n    sensitivity :  0.9052132701421801\\n    far 0.06003159557661927\\n    frr 0.0947867298578199\\n\\n'"
      ]
     },
     "execution_count": 16,
     "metadata": {},
     "output_type": "execute_result"
    }
   ],
   "source": [
    "\"\"\"\n",
    "SUB 9\n",
    "\n",
    "BOHB found best configuration\n",
    "{'dropout_rate': 0.6273313485219749, 'lr': 0.00024850487236764685, 'lstm_units': 156, 'num_conv_layers': 2, 'num_fc_layers': 3, 'num_fc_units_1': 253, 'num_filters_1': 240, 'optimizer': 'Adam', 'num_fc_units_2': 34, 'num_fc_units_3': 55, 'num_filters_2': 44}\n",
    "\n",
    "    val_loss: 0.18480144441127777\n",
    "    test_loss: 0.14045511186122894\n",
    "    test_acc: 0.9454976320266724\n",
    "    precision: 0.8666666666666667\n",
    "    recall: 0.9241706161137441\n",
    "    specificity 0.95260663507109\n",
    "    sensitivity :  0.9241706161137441\n",
    "    far 0.04739336492890995\n",
    "    frr 0.07582938388625593\n",
    "\n",
    "I found best configuration\n",
    "[[80, 0, 1], {\"dropout_rate\": 0.7477320947302286, \"lr\": 0.0005091769886330065, \"lstm_units\": 107, \"num_conv_layers\": 2, \"num_fc_layers\": 1, \"num_fc_units_1\": 29, \"num_filters_1\": 127, \"optimizer\": \"Adam\", \"num_filters_2\": 20}, {\"model_based_pick\": true}]\n",
    "\n",
    "    val_loss: 0.21238261461257935\n",
    "    test_loss: 0.15220099687576294\n",
    "    test_acc: 0.9312795996665955\n",
    "    precision: 0.834061135371179\n",
    "    recall: 0.9052132701421801\n",
    "    specificity 0.9399684044233807\n",
    "    sensitivity :  0.9052132701421801\n",
    "    far 0.06003159557661927\n",
    "    frr 0.0947867298578199\n",
    "\n",
    "\"\"\""
   ]
  },
  {
   "cell_type": "code",
   "execution_count": 17,
   "id": "clinical-queue",
   "metadata": {},
   "outputs": [
    {
     "data": {
      "text/plain": [
       "'\\nSUB 10\\n\\nBOHB found best configuration\\n{\\'dropout_rate\\': 0.5584115172928684, \\'lr\\': 0.0008547152588812913, \\'lstm_units\\': 184, \\'num_conv_layers\\': 2, \\'num_fc_layers\\': 3, \\'num_fc_units_1\\': 67, \\'num_filters_1\\': 6, \\'optimizer\\': \\'Adam\\', \\'num_fc_units_2\\': 193, \\'num_fc_units_3\\': 8, \\'num_filters_2\\': 57}\\n\\n    val_loss: 0.02091953158378601\\n    test_loss: 0.024042826145887375\\n    test_acc: 0.9893364906311035\\n    precision: 0.9855769230769231\\n    recall: 0.9715639810426541\\n    specificity 0.995260663507109\\n    sensitivity :  0.9715639810426541\\n    far 0.004739336492890996\\n    frr 0.02843601895734597\\n\\nI found best configuration\\n[[91, 0, 0], {\"dropout_rate\": 0.09862278733188111, \"lr\": 0.0018588411375133871, \"lstm_units\": 232, \"num_conv_layers\": 1, \"num_fc_layers\": 3, \"num_fc_units_1\": 27, \"num_filters_1\": 6, \"optimizer\": \"Adam\", \"num_fc_units_2\": 10, \"num_fc_units_3\": 37}, {\"model_based_pick\": true}]\\n\\n\\n\\n'"
      ]
     },
     "execution_count": 17,
     "metadata": {},
     "output_type": "execute_result"
    }
   ],
   "source": [
    "\"\"\"\n",
    "SUB 10\n",
    "\n",
    "BOHB found best configuration\n",
    "{'dropout_rate': 0.5584115172928684, 'lr': 0.0008547152588812913, 'lstm_units': 184, 'num_conv_layers': 2, 'num_fc_layers': 3, 'num_fc_units_1': 67, 'num_filters_1': 6, 'optimizer': 'Adam', 'num_fc_units_2': 193, 'num_fc_units_3': 8, 'num_filters_2': 57}\n",
    "\n",
    "    val_loss: 0.02091953158378601\n",
    "    test_loss: 0.024042826145887375\n",
    "    test_acc: 0.9893364906311035\n",
    "    precision: 0.9855769230769231\n",
    "    recall: 0.9715639810426541\n",
    "    specificity 0.995260663507109\n",
    "    sensitivity :  0.9715639810426541\n",
    "    far 0.004739336492890996\n",
    "    frr 0.02843601895734597\n",
    "\n",
    "I found best configuration\n",
    "[[91, 0, 0], {\"dropout_rate\": 0.09862278733188111, \"lr\": 0.0018588411375133871, \"lstm_units\": 232, \"num_conv_layers\": 1, \"num_fc_layers\": 3, \"num_fc_units_1\": 27, \"num_filters_1\": 6, \"optimizer\": \"Adam\", \"num_fc_units_2\": 10, \"num_fc_units_3\": 37}, {\"model_based_pick\": true}]\n",
    "\n",
    "    val_loss: 0.040317222476005554\n",
    "    test_loss: 0.061102647334337234\n",
    "    test_acc: 0.9869668483734131\n",
    "    precision: 0.9629629629629629\n",
    "    recall: 0.985781990521327\n",
    "    specificity 0.9873617693522907\n",
    "    sensitivity :  0.985781990521327\n",
    "    far 0.01263823064770932\n",
    "    frr 0.014218009478672985\n",
    "\n",
    "\"\"\""
   ]
  },
  {
   "cell_type": "code",
   "execution_count": 18,
   "id": "appreciated-slovak",
   "metadata": {},
   "outputs": [
    {
     "data": {
      "text/plain": [
       "'\\nSUB 11\\n\\nBOHB found best configuration\\n{\\'dropout_rate\\': 0.4877531154485289, \\'lr\\': 0.00016728793369324326, \\'lstm_units\\': 46, \\'num_conv_layers\\': 3, \\'num_fc_layers\\': 2, \\'num_fc_units_1\\': 13, \\'num_filters_1\\': 235, \\'optimizer\\': \\'Adam\\', \\'num_fc_units_2\\': 187, \\'num_filters_2\\': 231, \\'num_filters_3\\': 47}\\n    \\n    val_loss: 0.18419118225574493\\n    test_loss: 0.08409908413887024\\n    test_acc: 0.9727488160133362\\n    precision: 0.9519230769230769\\n    recall: 0.9383886255924171\\n    specificity 0.9842022116903634\\n    sensitivity :  0.9383886255924171\\n    far 0.01579778830963665\\n    frr 0.061611374407582936\\n\\nI found best configuration\\n[[2, 0, 0], {\"dropout_rate\": 0.569149552203474, \"lr\": 0.009755746313544013, \"lstm_units\": 232, \"num_conv_layers\": 3, \"num_fc_layers\": 2, \"num_fc_units_1\": 32, \"num_filters_1\": 76, \"optimizer\": \"Adam\", \"num_fc_units_2\": 21, \"num_filters_2\": 20, \"num_filters_3\": 9}, {\"model_based_pick\": false}]\\n\\n    val_loss: 0.2687532603740692\\n    test_loss: 0.21645528078079224\\n    test_acc: 0.9182464480400085\\n    precision: 0.8585858585858586\\n    recall: 0.8056872037914692\\n    specificity 0.9557661927330173\\n    sensitivity :  0.8056872037914692\\n    far 0.044233807266982623\\n    frr 0.1943127962085308\\n\\n'"
      ]
     },
     "execution_count": 18,
     "metadata": {},
     "output_type": "execute_result"
    }
   ],
   "source": [
    "\"\"\"\n",
    "SUB 11\n",
    "\n",
    "BOHB found best configuration\n",
    "{'dropout_rate': 0.4877531154485289, 'lr': 0.00016728793369324326, 'lstm_units': 46, 'num_conv_layers': 3, 'num_fc_layers': 2, 'num_fc_units_1': 13, 'num_filters_1': 235, 'optimizer': 'Adam', 'num_fc_units_2': 187, 'num_filters_2': 231, 'num_filters_3': 47}\n",
    "    \n",
    "    val_loss: 0.18419118225574493\n",
    "    test_loss: 0.08409908413887024\n",
    "    test_acc: 0.9727488160133362\n",
    "    precision: 0.9519230769230769\n",
    "    recall: 0.9383886255924171\n",
    "    specificity 0.9842022116903634\n",
    "    sensitivity :  0.9383886255924171\n",
    "    far 0.01579778830963665\n",
    "    frr 0.061611374407582936\n",
    "\n",
    "I found best configuration\n",
    "[[2, 0, 0], {\"dropout_rate\": 0.569149552203474, \"lr\": 0.009755746313544013, \"lstm_units\": 232, \"num_conv_layers\": 3, \"num_fc_layers\": 2, \"num_fc_units_1\": 32, \"num_filters_1\": 76, \"optimizer\": \"Adam\", \"num_fc_units_2\": 21, \"num_filters_2\": 20, \"num_filters_3\": 9}, {\"model_based_pick\": false}]\n",
    "\n",
    "    val_loss: 0.2687532603740692\n",
    "    test_loss: 0.21645528078079224\n",
    "    test_acc: 0.9182464480400085\n",
    "    precision: 0.8585858585858586\n",
    "    recall: 0.8056872037914692\n",
    "    specificity 0.9557661927330173\n",
    "    sensitivity :  0.8056872037914692\n",
    "    far 0.044233807266982623\n",
    "    frr 0.1943127962085308\n",
    "\n",
    "\"\"\""
   ]
  },
  {
   "cell_type": "code",
   "execution_count": null,
   "id": "transparent-milwaukee",
   "metadata": {},
   "outputs": [],
   "source": []
  }
 ],
 "metadata": {
  "kernelspec": {
   "display_name": "Python 3",
   "language": "python",
   "name": "python3"
  },
  "language_info": {
   "codemirror_mode": {
    "name": "ipython",
    "version": 3
   },
   "file_extension": ".py",
   "mimetype": "text/x-python",
   "name": "python",
   "nbconvert_exporter": "python",
   "pygments_lexer": "ipython3",
   "version": "3.6.9"
  }
 },
 "nbformat": 4,
 "nbformat_minor": 5
}
